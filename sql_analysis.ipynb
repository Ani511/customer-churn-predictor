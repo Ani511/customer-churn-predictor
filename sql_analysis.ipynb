{
 "cells": [
  {
   "cell_type": "markdown",
   "id": "a3f737fb-e4ca-4db8-85a4-2c2c99e26777",
   "metadata": {},
   "source": [
    "# Integration of SQL"
   ]
  },
  {
   "cell_type": "code",
   "execution_count": 2,
   "id": "e304ef56-fd4b-46db-b12a-47b3f011c6c3",
   "metadata": {},
   "outputs": [],
   "source": [
    "import pandas as pd\n",
    "import sqlite3\n",
    "\n",
    "# Load CSV\n",
    "df = pd.read_csv('data/WA_Fn-UseC_-Telco-Customer-Churn.csv')\n",
    "\n",
    "# Create SQLite DB\n",
    "conn = sqlite3.connect('data/telco_churn.db')\n",
    "df.to_sql('customers', conn, if_exists='replace', index=False)\n",
    "conn.close()\n"
   ]
  },
  {
   "cell_type": "markdown",
   "id": "dcd2e123-70c0-4795-885d-45697e7bcfab",
   "metadata": {},
   "source": [
    "📁 All queries used are saved in [`sql/queries.sql`](sql/queries.sql)"
   ]
  }
 ],
 "metadata": {
  "kernelspec": {
   "display_name": "Python 3 (ipykernel)",
   "language": "python",
   "name": "python3"
  },
  "language_info": {
   "codemirror_mode": {
    "name": "ipython",
    "version": 3
   },
   "file_extension": ".py",
   "mimetype": "text/x-python",
   "name": "python",
   "nbconvert_exporter": "python",
   "pygments_lexer": "ipython3",
   "version": "3.13.1"
  }
 },
 "nbformat": 4,
 "nbformat_minor": 5
}
